{
 "cells": [
  {
   "cell_type": "code",
   "execution_count": 108,
   "metadata": {},
   "outputs": [],
   "source": [
    "# Reference list\n",
    "# Achin Sagar, Extracting Flipkart reviews through web scraping, Quora, accessed April 8, 2018, https://codeexperiments.quora.com/Extracting-Flipkart-reviews-through-web-scraping"
   ]
  },
  {
   "cell_type": "code",
   "execution_count": null,
   "metadata": {},
   "outputs": [],
   "source": [
    "import requests\n",
    "import sys\n",
    "from bs4 import BeautifulSoup as bs\n",
    "import time"
   ]
  },
  {
   "cell_type": "code",
   "execution_count": 109,
   "metadata": {},
   "outputs": [],
   "source": [
    "# From lab 3\n",
    "# (Uses list comprehension to parse out the cleaned text strings from a list of elements returned from a BeautifulSoup selection.)\n",
    "def get_text_from_elements(elements):\n",
    "    return [e.text.strip() for e in elements]"
   ]
  },
  {
   "cell_type": "code",
   "execution_count": 118,
   "metadata": {},
   "outputs": [],
   "source": [
    "payload = {'q':'laptop'}\n",
    "r = requests.get('http://www.flipkart.com/search', params = payload)\n",
    "page = r.content\n",
    "soup = bs(page, \"html.parser\")"
   ]
  },
  {
   "cell_type": "code",
   "execution_count": 247,
   "metadata": {},
   "outputs": [
    {
     "name": "stdout",
     "output_type": "stream",
     "text": [
      "# of pages is 26\n"
     ]
    }
   ],
   "source": [
    "# Count the number of pages of the search result\n",
    "link_pages = soup.find_all(\"span\", class_ = \"_3v8VuN\")\n",
    "link_pages = get_text_from_elements(link_pages)\n",
    "# To split the string 'Page 3 of 26' by space, extract a row from the list of one row ('link_pages')\n",
    "link_pages = link_pages[0].split(\" \")\n",
    "link_pages = int(link_pages[-1])\n",
    "print(\"# of pages is\", link_pages)"
   ]
  },
  {
   "cell_type": "code",
   "execution_count": 257,
   "metadata": {},
   "outputs": [
    {
     "name": "stdout",
     "output_type": "stream",
     "text": [
      "[['Dell Inspiron Core i3 6th Gen - (4 GB/1 TB HDD/Linux) 3467 Laptop', 4.1, '₹25,990'], ['HP 15 APU Dual Core E2 - (4 GB/500 GB HDD/DOS) 15Q-BY001AU Laptop', 3.6, '₹17,990'], ['HP 15 Core i5 8th Gen - (8 GB/1 TB HDD/DOS) 15-BS145TU Laptop', 4.2, '₹38,990'], ['Lenovo Ideapad Core i5 7th Gen - (8 GB/1 TB HDD/Windows 10 Home/2 GB Graphics) IP 320 Laptop', 4.3, '₹44,990'], ['HP 15 Pentium Quad Core - (4 GB/1 TB HDD/DOS) 15Q-BU009TU Laptop', 4.1, '₹20,990'], ['Acer Aspire 3 Core i3 7th Gen - (4 GB/500 GB HDD/Linux) A315-51 Laptop', 4.3, '₹24,990'], ['Lenovo Core i5 7th Gen - (8 GB/1 TB HDD/DOS/2 GB Graphics) IP 320E Laptop', 4.3, '₹40,990'], ['Lenovo Ideapad Core i3 6th Gen - (4 GB/1 TB HDD/DOS) IP 320E Laptop', 4.1, '₹25,490'], ['Dell Inspiron 14 3000 Core i3 6th Gen - (4 GB/1 TB HDD/Windows 10 Home) 3467 Laptop', 4.1, '₹29,990'], ['HP 15 Core i3 6th Gen - (4 GB/1 TB HDD/Windows 10 Home) 15Q-bu013TU Laptop', 4.1, '₹28,990'], ['Lenovo Core i3 6th Gen - (4 GB/1 TB HDD/Windows 10 Home) IP 320E Laptop', 4.1, '₹28,990'], ['HP 15 Core i3 6th Gen - (8 GB/1 TB HDD/DOS) 15Q-BU006TU Laptop', 4.2, '₹30,990'], ['Apple MacBook Air Core i5 5th Gen - (8 GB/128 GB SSD/Mac OS Sierra) MQD32HN/A A1466', 4.7, '₹56,874'], ['Acer Aspire 3 Celeron Dual Core - (2 GB/500 GB HDD/Linux) A315-31 Laptop', 3.9, '₹15,990'], ['HP 15 Core i3 6th Gen - (4 GB/1 TB HDD/DOS) 15Q-BU007TU Laptop', 4.2, '₹26,990'], ['Dell Inspiron APU Dual Core A9 7th Gen - (6 GB/1 TB HDD/Windows 10 Home) 3565 Laptop', 3.9, '₹28,990'], ['HP APU Dual Core A9 - (4 GB/1 TB HDD/Windows 10 Home/2 GB Graphics) 15q-by002AX Laptop', 3.8, '₹24,990'], ['Lenovo Ideapad Core i3 6th Gen - (4 GB/1 TB HDD/DOS) IP 320E-15ISK Laptop', 4.1, '₹25,490'], ['Lenovo APU Dual Core A9 7th Gen - (4 GB/1 TB HDD/DOS) IP 320E Laptop', 3.7, '₹21,990'], ['Lenovo APU Dual Core A9 6th Gen - (4 GB/1 TB HDD/Windows 10 Home) Yoga 510 2 in 1 Laptop', 4.0, '₹27,990'], ['MSI GL Series Core i7 7th Gen - (8 GB/1 TB HDD/Windows 10 Home/4 GB Graphics) GL62M 7RDX-2680IN Gaming...', 4.7, '₹67,990'], ['Lenovo Ideapad Core i3 7th Gen - (4 GB/1 TB HDD/Windows 10 Home) IP 320S Laptop', 4.2, '₹34,990'], ['MSI GL Series Core i7 7th Gen - (8 GB/1 TB HDD/128 GB SSD/Windows 10 Home/4 GB Graphics) GL62M 7REX-26...', 4.8, '₹77,990'], ['Dell Vostro 3000 Core i5 7th Gen - (8 GB/1 TB HDD/Ubuntu/2 GB Graphics) 3568 Laptop', 4.2, '₹40,990'], ['Acer Nitro 5 Core i5 7th Gen - (8 GB/1 TB HDD/Windows 10 Home/2 GB Graphics) AN515-51 Gaming Laptop', 4.4, '₹57,990'], ['Lenovo Pentium Quad Core - (4 GB/500 GB HDD/Windows 10 Home) IP 110 Laptop', 3.9, '₹20,990'], ['Lenovo Ideapad Core i7 7th Gen - (8 GB/1 TB HDD/Windows 10 Home/2 GB Graphics) IP 320E Laptop', 4.1, '₹52,990'], ['Dell Inspiron Pentium Quad Core - (4 GB/500 GB HDD/Ubuntu) 3552 Notebook', 4.1, '₹19,990'], ['Asus FX503 Core i7 7th Gen - (8 GB/1 TB HDD/Windows 10 Home/4 GB Graphics) FX503VD-DM111T Gaming Lapto...', 4.0, '₹72,990'], ['Acer Core i5 7th Gen - (8 GB/1 TB HDD/Linux) E5 - 575 Laptop', 4.1, '₹35,990'], ['Lenovo Ideapad Core i3 6th Gen - (8 GB/1 TB HDD/Windows 10 Home/2 GB Graphics) IP 320 Laptop', 4.1, '₹37,990'], ['HP APU Quad Core A8 - (4 GB/1 TB HDD/Windows 10 Home) 15-BG004AU Laptop', 4.0, '₹25,990'], ['Asus APU Dual Core E1 - (4 GB/500 GB HDD/Windows 10 Home) X540YA-XO547T Laptop', 3.7, '₹17,990'], ['HP Envy Core i5 8th Gen - (8 GB/256 GB SSD/Windows 10 Home) 13-ad125TU Thin and Light Laptop', 4.4, '₹67,990'], ['Acer Switch One Atom Quad Core - (2 GB/32 GB EMMC Storage/Windows 10 Home) SW110-1CT 2 in 1 Laptop', 3.9, '₹12,490'], ['Lenovo Core i7 7th Gen - (8 GB/2 TB HDD/Windows 10 Home/4 GB Graphics) IP 520 Laptop', 4.3, '₹61,990'], ['Dell Inspiron Core i5 7th Gen - (4 GB/1 TB HDD/Windows 10 Home/2 GB Graphics) 3567 Notebook', 3.9, '₹39,990'], ['Dell Inspiron 15 5000 Core i3 6th Gen - (4 GB/1 TB HDD/Windows 10 Home) 5567 Laptop', 3.8, '₹31,990'], ['Dell Inspiron 15 3000 Series Core i5 7th Gen - (4 GB/1 TB HDD/Ubuntu/2 GB Graphics) 3567 Laptop', 3.9, '₹36,990'], ['Lenovo Ideapad Core i5 7th Gen - (4 GB/1 TB HDD/Windows 10 Home) IP 320E-15IKB Laptop', 4.4, '₹38,990'], ['Acer Nitro 5 Core i5 7th Gen - (8 GB/1 TB HDD/128 GB SSD/Windows 10 Home/4 GB Graphics) AN515-51 Gamin...', 4.4, '₹69,990'], ['HP 15 Core i3 6th Gen - (4 GB/1 TB HDD/DOS) 15q-BU020TU Laptop', 3.6, '₹25,990'], ['Asus VivoBook S14 Core i5 8th Gen - (8 GB/1 TB HDD/128 GB SSD/Windows 10 Home) S410UA-EB267T Thin and ...', 4.5, '₹59,990'], ['Acer Nitro 5 Core i5 7th Gen - (8 GB/1 TB HDD/128 GB SSD/Windows 10 Home/2 GB Graphics) AN515-51 Gamin...', 4.6, '₹63,990'], ['Lenovo Ideapad Core i5 7th Gen - (8 GB/2 TB HDD/DOS/2 GB Graphics) IP 320E-15IKB Laptop', 4.1, '₹44,990'], ['Lenovo Ideapad Core i3 6th Gen - (4 GB/1 TB HDD/DOS/2 GB Graphics) IP 320 Laptop', 4.4, '₹32,490'], ['Dell Inspiron APU Dual Core E2 - (4 GB/500 GB HDD/Linux) 3565 Laptop', 3.6, '₹19,990'], ['Lenovo IdeaPad Pentium Quad Core - (4 GB/1 TB HDD/DOS) 110-15IBR Laptop', 3.4, '₹19,990'], ['Lenovo IdeaPad Pentium Quad Core - (4 GB/1 TB HDD/DOS) 110-15IBR Laptop', 3.4, '₹19,990'], ['Dell Insprion Core i7 7th Gen - (8 GB/1 TB HDD/Windows 10/2 GB Graphics) 3567 Laptop', 4.0, '₹51,990'], ['HP Core i5 7th Gen - (8 GB/1 TB HDD/Windows 10 Home/4 GB Graphics) 15-au623tx Laptop', 4.3, '₹53,990'], ['Acer Aspire 3 Celeron Dual Core - (2 GB/500 GB HDD/Windows 10) A315-31 Laptop', 3.9, '₹17,990'], ['Lenovo Yoga 510 Core i3 6th Gen - (4 GB/1 TB HDD/Windows 10 Home) Yoga 510 2 in 1 Laptop', 4.1, '₹38,990'], ['Acer Aspire 3 Pentium Quad Core - (4 GB/500 GB HDD/Linux) A315-31 Laptop', 4.0, '₹18,990'], ['Micromax Atom Quad Core - (2 GB/32 GB EMMC Storage/Windows 10 Home) Canvas L1160 Laptop', 3.9, '₹11,100'], ['Asus EeeBook Celeron Dual Core - (2 GB/32 GB EMMC Storage/Windows 10 Home) E203NA-FD026T Laptop', 3.8, '₹13,990'], ['Asus Vivobook APU Dual Core A6 - (4 GB/1 TB HDD/Windows 10 Home) X542BA-GQ006T Laptop', 3.8, '₹22,990'], ['Dell Inspiron 15 3000 Series Core i5 7th Gen - (4 GB/1 TB HDD/Windows 10 Home) 3567 Laptop', 3.8, '₹39,990'], ['HP 15 APU Dual Core A9 - (4 GB/1 TB HDD/DOS) 15-bw094AU Laptop', 4.1, '₹24,990'], ['HP 15 APU Dual Core A6 - (4 GB/1 TB HDD/DOS) 15q-BY004AU Laptop', 3.7, '₹22,990'], ['Microsoft Surface Pro Core i5 7th Gen - (4 GB/128 GB SSD/Windows 10 Pro) 1796 2 in 1 Laptop', 4.7, '₹64,990'], ['HP 15 Core i3 6th Gen - (4 GB/1 TB HDD/Windows 10 Home) 15-BS636TU Laptop', 3.9, '₹32,190'], ['Asus VivoBook S14 Core i3 7th Gen - (8 GB/1 TB HDD/128 GB SSD/Windows 10 Home) S410UA-EB266T Thin and ...', 4.4, '₹49,990'], ['Microsoft Surface Pro 4 Core m3 6th Gen - (4 GB/128 GB SSD/Windows 10 Home) 1724 2 in 1 Laptop', 3.8, '₹47,990'], ['Lenovo Ideapad Core i5 7th Gen - (8 GB/1 TB HDD/128 GB SSD/Windows 10 Home) 520S-14IKB U Laptop', 3.9, '₹52,990'], ['HP Core i3 6th Gen - (4 GB/1 TB HDD/DOS) 15-BE012TU Laptop', 4.2, '₹28,445'], ['Asus Core i3 6th Gen - (4 GB/1 TB HDD/Windows 10 Home) X541UA-DM1295T Laptop', 3.7, '₹28,990'], ['LG Gram Core i5 7th Gen - (8 GB/256 GB SSD/Windows 10 Home) 14Z970 Thin and Light Laptop', 4.8, '₹66,995'], ['HP Core i5 7th Gen - (8 GB/1 TB HDD/Windows 10 Home/2 GB Graphics) 15-AU620TX Laptop', 4.2, '₹56,490'], ['Dell 3000 Core i3 6th Gen - (4 GB/1 TB HDD/Ubuntu) 3568 Laptop', 4.2, '₹28,349'], ['Microsoft Surface Pro Core i5 7th Gen - (4 GB/128 GB SSD/Windows 10 Pro) 1796 2 in 1 Laptop', 4.7, '₹64,990'], ['Acer E1 APU Dual Core E1 7th Gen - (4 GB/1 TB HDD/Linux) ASpire Laptop', 3.9, '₹18,990'], ['Asus VivoBook S14 Core i3 7th Gen - (8 GB/1 TB HDD/128 GB SSD/Windows 10 Home) S410UA-EB266T Thin and ...', 4.4, '₹49,990'], ['HP Imprint APU Dual Core E2 - (4 GB/1 TB HDD/DOS) 15-BW098AU Laptop', 3.1, '₹19,699'], ['Microsoft Surface Pro 4 Core m3 6th Gen - (4 GB/128 GB SSD/Windows 10 Home) 1724 2 in 1 Laptop', 3.8, '₹47,990'], ['Lenovo Ideapad Core i5 7th Gen - (8 GB/1 TB HDD/128 GB SSD/Windows 10 Home) 520S-14IKB U Laptop', 3.9, '₹52,990'], ['Dell 3000 Core i3 6th Gen - (4 GB/1 TB HDD/Ubuntu) 3568 Laptop', 4.2, '₹28,349'], ['Asus Core i3 6th Gen - (4 GB/1 TB HDD/Windows 10 Home) X541UA-DM1295T Laptop', 3.7, '₹28,990'], ['LG Gram Core i5 7th Gen - (8 GB/256 GB SSD/Windows 10 Home) 14Z970 Thin and Light Laptop', 4.8, '₹66,995'], ['HP 15 Core i5 6th Gen - (8 GB/1 TB HDD/Windows 10 Home/2 GB Graphics) 15-AY009TX Laptop', 4.1, '₹46,980'], ['MSI P Series Core i7 7th Gen - (8 GB/1 TB HDD/128 GB SSD/DOS/4 GB Graphics) PE62 7RE-2024XIN Gaming La...', 4.6, '₹73,990'], ['Asus X Series Core i3 7th Gen - (4 GB/1 TB HDD/DOS) X541UA-DM1358D Laptop', 4.1, '₹28,490'], ['Dell Inspiron APU Dual Core A6 7th Gen - (4 GB/500 GB HDD/Ubuntu) 3565 Laptop', 3.6, '₹20,980'], ['Lenovo Ideapad Core i3 6th Gen - (4 GB/2 TB HDD/Windows 10 Home) IP 320 Notebook', 3.3, '₹31,990'], ['Iball C Series Atom - (2 GB/32 GB EMMC Storage/Windows 10) Compbook Laptop', 4.0, '₹10,394'], ['Acer Aspire 3 Pentium Quad Core - (4 GB/500 GB HDD/Windows 10) A315-31 Notebook', 3.9, '₹21,990'], ['Micromax Atom Quad Core - (2 GB/32 GB EMMC Storage/Windows 10 Home) Canvas Lapbook Laptop', 3.6, '₹8,990'], ['Dell Vostro Celeron Dual Core 6th Gen - (4 GB/500 GB HDD/DOS) 3568 Laptop', 4.2, '₹23,956'], ['HP Notebook Pentium Dual Core - (4 GB/1 TB HDD/DOS) 15q-BU005TU Laptop', 4.3, '₹21,990'], ['HP 15 APU Dual Core A9 - (4 GB/500 GB HDD/Windows 10 Home) 15-BW523AU Laptop', 3.8, '₹24,490'], ['RDP ThinBook Atom Quad Core 8th Gen - (2 GB/500 GB HDD/Windows 10) 1130-ECW Laptop', 4.0, '₹13,999'], ['HP Core i5 7th Gen - (4 GB/1 TB HDD/Windows 10 Home) 13-U132TU x360 2 in 1 Laptop', 4.0, '₹52,990'], ['Micromax Ignite Pentium Quad Core 4th Gen - (4 GB/1 TB HDD/Windows 10 Home) LPQ61 Laptop', 3.6, '₹20,000'], ['Apple MacBook Air Core i5 5th Gen - (8 GB/256 GB SSD/Mac OS Sierra) MQD42HN/A', 4.7, '₹73,480'], ['Iball Atom Quad Core - (2 GB/32 GB EMMC Storage/Windows 10 Home) CompBook Excelance Laptop', 3.8, '₹10,849'], ['Acer Aspire 3 Core i3 6th Gen - (4 GB/500 GB HDD/Linux) A315-51 Notebook', 4.2, '₹24,990'], ['Fujitsu A series Core i3 5th Gen - (4 GB/1 TB HDD/DOS) Lifebook Laptop', 4.1, '₹26,790'], ['Acer Swift 3 Ryzen 5 Quad Core - (8 GB/1 TB HDD/Linux) SF315-41 Laptop', 4.3, '₹48,490'], ['Acer Aspire E15 APU Quad Core A10 - (4 GB/1 TB HDD/Windows 10 Home) E5-553 / E5-553G Laptop', 4.7, '₹27,990'], ['Acer Predator Helios 300 Core i7 7th Gen - (8 GB/1 TB HDD/128 GB SSD/Windows 10 Home/4 GB Graphics) G3...', 4.6, '₹89,990'], ['Acer Predator Helios 300 Core i5 7th Gen - (8 GB/1 TB HDD/128 GB SSD/Windows 10 Home/4 GB Graphics) G3...', 4.5, '₹79,990'], ['RDP ThinBook Atom Quad Core 8th Gen - (2 GB/32 GB EMMC Storage/Linux) 1430-ECL Laptop', 3.3, '₹11,999'], ['Micromax Canvas Wi-Fi Atom Quad Core - (2 GB/32 GB EMMC Storage/Windows 10 Home) LT666W 2 in 1 Laptop', 3.5, '₹12,490'], ['Lenovo Ideapad Core i5 7th Gen - (8 GB/2 TB HDD/Windows 10 Home/2 GB Graphics) IP 320E-15IKB Laptop', 4.3, '₹47,990'], ['HP Core i3 6th Gen - (4 GB/1 TB HDD/Windows 10 Home) 14-ar005TU Laptop', 4.0, '₹31,919'], ['RDP ThinBook Atom Quad Core 8th Gen - (2 GB/32 GB EMMC Storage/Windows 10) 1430-EC1 Laptop', 4.5, '₹12,999'], ['RDP ThinBook Atom Quad Core 8th Gen - (2 GB/32 GB EMMC Storage/Windows 10) 1130-EC1 Laptop', 3.0, '₹10,599'], ['Microsoft Core M 6th Gen - (4 GB/128 GB SSD/Windows 10 Pro) Pro 4 2 in 1 Laptop', 4.1, '₹53,000'], ['Apple Macbook Pro Core i7 - (16 GB/512 GB SSD/Mac OS Sierra/2 GB Graphics) MLW82HN/A', 3.3, '₹190,799'], ['Dell Inspiron 13 7000 Core i5 8th Gen - (8 GB/256 GB SSD/Windows 10 Home) 7373 2 in 1 Laptop', 5.0, '₹74,990'], ['Apple MacBook Air Core i5 5th gen - (8 GB/256 GB SSD/OS X El Capitan) MMGG2HN/A', 4.4, '₹72,000'], ['Acer Aspire Core i5 7th Gen - (4 GB/1 TB HDD/Linux/2 GB Graphics) E5-575G Laptop', 4.4, '₹43,200'], ['HP G APU Quad Core A6 - (4 GB/500 GB HDD/DOS) 245 G5 Laptop', 4.0, '₹19,420'], ['Asus Vivobook Series Core i5 7th Gen - (8 GB/1 TB HDD/DOS/2 GB Graphics) R542UQ-DM153 Laptop', 4.2, '₹42,090'], ['Apple MacBook Pro Core i5 - (8 GB/128 GB SSD/OS X Yosemite) MF839HN/A', 4.6, '₹106,698'], ['Acer E1 APU Dual Core E1 7th Gen - (4 GB/1 TB HDD/Linux) ASpire Laptop', 3.9, '₹18,990'], ['HP Envy Core i5 6th Gen - (12 GB/1 TB HDD/Windows 10 Home/4 GB Graphics) j107tx Laptop', 3.9, '₹82,429'], ['Venturer BravoWin Atom Quad Core 2nd Gen - (2 GB/32 GB HDD/32 GB SSD/32 GB EMMC Storage/Windows 10/2 G...', 3.8, '₹12,999'], ['HP 15 Core i5 7th Gen - (4 GB/1 TB HDD/Windows 10 Home) 15q-bu014TU Laptop', 4.2, '₹40,999'], ['Dell Inspiron 5000 Core i5 7th Gen - (8 GB/1 TB HDD/Windows 10 Home/4 GB Graphics) 5567 Laptop', 4.1, '₹57,999'], ['Apple Macbook Pro Core i7 - (16 GB/512 GB SSD/Mac OS Sierra/2 GB Graphics) MLW82HN/A', 3.3, '₹190,799'], ['Dell Inspiron 13 7000 Core i5 8th Gen - (8 GB/256 GB SSD/Windows 10 Home) 7373 2 in 1 Laptop', 5.0, '₹74,990'], ['Acer Aspire Core i5 7th Gen - (4 GB/1 TB HDD/Linux/2 GB Graphics) E5-575G Laptop', 4.4, '₹43,200'], ['HP APU Quad Core A8 6th Gen - (4 GB/1 TB HDD/Windows 10 Home) 15-bg002AU Laptop', 4.0, '₹27,700'], ['Apple MacBook Air Core i5 5th gen - (8 GB/256 GB SSD/OS X El Capitan) MMGG2HN/A', 4.4, '₹72,000'], ['Microsoft Core M 6th Gen - (4 GB/128 GB SSD/Windows 10 Pro) Pro 4 2 in 1 Laptop', 4.1, '₹53,000'], ['Asus Celeron Celeron Dual Core - (2 GB/500 GB HDD/DOS) E202SA-FD111D Notebook', 3.5, '₹19,999'], ['Lenovo Core i5 7th Gen - (8 GB/2 TB HDD/Windows 10 Home/4 GB Graphics) IP 520 Laptop', 4.4, '₹62,900'], ['RDP ThinBook Atom Quad Core 7th Gen - (2 GB/32 GB HDD/Windows 10 Pro) 1430P Business Laptop', 4.0, '₹13,999'], ['Dell Core i3 6th Gen - (4 GB/1 TB HDD/Windows 10 Home) 5559 Laptop', 4.0, '₹35,890'], ['MSI GT72 2QD Dominator Laptop (4th Gen Ci7/ 8GB/ 1TB/ Win8.1)', 4.2, '₹165,000'], ['MSI Dominator Pro Core i7 4th Gen - (8 GB/1 TB HDD/Windows 8 Pro/8 GB Graphics) GT72 2QE Gaming Laptop', 4.2, '₹205,000'], ['Micromax Lapbook Atom Quad Core 4th - (2 GB/32 GB EMMC Storage/Windows 10) L1161 Laptop', 3.7, '₹9,490'], ['Dell Inspiron Core i3 6th Gen - (4 GB/1 TB HDD/Ubuntu) 5567 Notebook', 4.3, '₹31,890'], ['HP Imprint APU Dual Core E2 - (4 GB/1 TB HDD/DOS) 15-BW098AU Laptop', 3.1, '₹19,699'], ['HP 15 Core i5 6th Gen - (8 GB/1 TB HDD/Windows 10 Home/2 GB Graphics) 15-AY009TX Laptop', 4.1, '₹46,980'], ['Micromax Ignite Pentium Quad Core 4th Gen - (4 GB/1 TB HDD/Windows 10 Home) LPQ61 Laptop', 3.6, '₹20,000'], ['RDP ThinBook Atom Quad Core 8th Gen - (2 GB/32 GB EMMC Storage/Linux) 1430-ECL Laptop', 3.3, '₹11,999'], ['Micromax Canvas Wi-Fi Atom Quad Core - (2 GB/32 GB EMMC Storage/Windows 10 Home) LT666W 2 in 1 Laptop', 3.5, '₹12,490'], ['RDP ThinBook Atom Quad Core 8th Gen - (2 GB/32 GB EMMC Storage/Windows 10) 1130-EC1 Laptop', 3.0, '₹10,599'], ['HP Core i3 5th Gen - (4 GB/1 TB HDD/DOS) 15-AC122TU Laptop', 4.1, '₹28,490'], ['Lenovo Yoga 500 Core i5 5th Gen - (4 GB/500 GB HDD/8 GB SSD/Windows 10 Home/2 GB Graphics) Yoga-500 2 ...', 4.5, '₹53,980'], ['Dell Inspiron Core i5 6th Gen - (8 GB/1 TB HDD/Windows 10 Home/2 GB Graphics) 5559 Laptop', 4.1, '₹55,000'], ['Dell 15 3000 Core i3 4th Gen - (4 GB/500 GB HDD/Windows 8 Pro) 3558 Business Laptop', 4.3, '₹32,000'], ['Dell Vostro Pentium Dual Core 5th Gen - (4 GB/500 GB HDD/Linux) 3558 Laptop', 4.1, '₹28,490'], ['Acer Aspire E Core i5 5th Gen - (4 GB/1 TB HDD/Linux) E5-573 Laptop', 4.0, '₹38,999'], ['MSI P Core i7 7th Gen - (8 GB/1 TB HDD/DOS/2 GB Graphics) PL62 7RC Gaming Laptop', 4.7, '₹59,990'], ['Acer E Series Celeron Dual Core - (2 GB/500 GB HDD/Linux) ES1-132 Laptop', 3.0, '₹18,990'], ['Dell Inspiron Core i7 6th Gen - (8 GB/1 TB HDD/8 GB SSD/Windows 10 Home/4 GB Graphics) 7559 Gaming Lap...', 3.8, '₹90,000'], ['MSI GS60 2PL Ghost Notebook (4th Gen Ci7/ 8GB/ 1TB/ Win8.1/ 2GB Graph)', 3.6, '₹109,990'], ['Lenovo Ideapad 500s Core i5 6th Gen - (4 GB/1 TB HDD/Windows 10 Home/2 GB Graphics) 500S-14ISK Laptop', 4.0, '₹47,777'], ['HP Core i5 5th Gen - (4 GB/1 TB HDD/Windows 10 Home/2 GB Graphics) 15-ac123tx Laptop', 4.1, '₹44,490'], ['Dell Inspiron Core i7 6th Gen - (8 GB/1 TB HDD/Windows 10 Home/2 GB Graphics) 5559 Laptop', 3.3, '₹61,999'], ['Asus X553MA Celeron Quad Core 4th Gen - (2 GB/500 GB HDD/DOS) X553MA Laptop', 3.6, '₹21,480'], ['HP 15 Core i3 6th Gen - (8 GB/1 TB HDD/Windows 10 Home) 15-BS601TU Laptop', 4.3, '₹39,000'], ['MSI PL Series Core i5 7th Gen - (8 GB/1 TB HDD/DOS/2 GB Graphics) PL62 7RC-270XIN Laptop', 4.6, '₹46,990'], ['Lenovo Core i7 7th Gen - (8 GB/1 TB HDD/Windows 10 Home/4 GB Graphics) IP 520 Laptop', 4.1, '₹61,990'], ['HP 15 Core i3 6th Gen - (8 GB/1 TB HDD/Windows 10 Home/2 GB Graphics) 15-BS580TX Laptop', 4.1, '₹38,990'], ['HP 15 APU Dual Core A9 - (4 GB/1 TB HDD/DOS/2 GB Graphics) 15-bw088AX Laptop', 4.1, '₹27,990'], ['MSI CX Core i7 7th Gen - (4 GB/1 TB HDD/DOS/2 GB Graphics) CX62 7QL Laptop', 4.3, '₹47,990'], ['Dell Inspiron 15 7000 Core i7 7th Gen - (16 GB/1 TB HDD/256 GB SSD/Windows 10 Home/6 GB Graphics) 7577...', 4.7, '₹124,990'], ['Acer Spin 5 Core i3 7th Gen - (4 GB/256 GB SSD/Windows 10 Home) SP513-51 2 in 1 Laptop', 4.3, '₹49,990'], ['Lenovo Core i5 7th Gen - (8 GB/1 TB HDD/Windows 10 Home) Yoga 520 2 in 1 Laptop', 4.2, '₹61,990'], ['Acer Swift 3 Ryzen 5 Quad Core - (8 GB/1 TB HDD/Windows 10 Home) SF315-41 Laptop', 4.3, '₹59,999'], ['Dell Inspiron 5000 Core i5 7th Gen - (8 GB/2 TB HDD/Windows 10 Home/4 GB Graphics) 5567 Laptop', 4.1, '₹65,617'], ['HP Imprint Core i5 8th Gen - (8 GB/1 TB HDD/DOS/2 GB Graphics) 15-bs179TX Laptop', 4.1, '₹44,990'], ['Dell Inspiron 15 3000 Core i3 6th Gen - (4 GB/1 TB HDD/Windows 10 Home) 3567 Laptop', 4.0, '₹32,990'], ['Lenovo Core i5 7th Gen - (4 GB/1 TB HDD/Windows 10 Home) Yoga 520 2 in 1 Laptop', 4.1, '₹60,946'], ['Lenovo Legion Core i7 7th Gen - (16 GB/1 TB HDD/128 GB SSD/Windows 10 Home/4 GB Graphics) Y520 Gaming ...', 4.3, '₹104,990'], ['HP Envy Core i7 8th Gen - (8 GB/256 GB SSD/Windows 10 Home) 13-ad128TU Thin and Light Laptop', 4.5, '₹84,990'], ['Lenovo Legion Core i5 7th Gen - (8 GB/1 TB HDD/128 GB SSD/Windows 10 Home/4 GB Graphics) LN Y520-15IKB...', 4.6, '₹74,990'], ['Dell Inspiron Core i3 6th Gen - (4 GB/1 TB HDD/Linux) 5559 Laptop', 4.1, '₹29,990'], ['Dell Vostro 15 3000 Core i5 7th Gen - (8 GB/1 TB HDD/Linux) 3568 Laptop', 3.8, '₹38,990'], ['HP 15 Core i3 6th Gen - (4 GB/1 TB HDD/DOS/2 GB Graphics) 15q-BU008TX Laptop', 4.5, '₹32,290'], ['Dell Inspiron 15 7000 Core i5 8th Gen - (8 GB/1 TB HDD/128 GB SSD/Windows 10 Home/4 GB Graphics) 7570 ...', 4.8, '₹74,990'], ['MSI GL Core i7 7th Gen - (8 GB/1 TB HDD/Windows 10 Home/4 GB Graphics) GL62 7RD Gaming Laptop', 3.4, '₹94,990'], ['Dell 5000 Core i7 7th Gen - (8 GB/1 TB HDD/128 GB SSD/Windows 10 Home/4 GB Graphics) 5577 Gaming Lapto...', 4.4, '₹83,990'], ['HP Core i7 7th Gen - (8 GB/1 TB HDD/Windows 10 Home/4 GB Graphics) 15-AU628TX Laptop', 3.9, '₹62,990'], ['HP Pavilion Core i5 8th Gen - (8 GB/1 TB HDD/8 GB SSD/Windows 10 Home/2 GB Graphics) 15-CC130TX Laptop', 3.0, '₹58,990'], ['Acer Predator Helios 300 Core i5 7th Gen - (16 GB/1 TB HDD/128 GB SSD/Windows 10 Home/6 GB Graphics) G...', 4.6, '₹99,990'], ['Lenovo Core i5 7th Gen - (8 GB/1 TB HDD/Windows 10 Home/4 GB Graphics) IP 520 Laptop', 4.2, '₹64,715'], ['MSI GV Series Core i7 7th Gen - (8 GB/1 TB HDD/DOS/4 GB Graphics) GV62 7RD-2297XIN Gaming Laptop', 4.6, '₹67,990'], ['Dell Inspiron Core i5 7th Gen - (8 GB/1 TB HDD/Windows 10 Home/4 GB Graphics) 7567 Gaming Laptop', 4.5, '₹82,503'], ['Dell Vostro 15 3000 Pentium Dual Core - (4 GB/1 TB HDD/Linux) 3568 Laptop', 3.7, '₹22,990'], ['Asus VivoBook S15 Core i5 8th Gen - (8 GB/1 TB HDD/Windows 10 Home/2 GB Graphics) S510UN-BQ217T Laptop', 4.3, '₹59,990'], ['HP x360 Core i5 7th Gen - (8 GB/1 TB HDD/8 GB SSD/Windows 10 Home/2 GB Graphics) 14-ba073TX 2 in 1 Lap...', 4.2, '₹72,990'], ['HP Pavilion Core i5 7th Gen - (4 GB/1 TB HDD/Windows 10 Home/4 GB Graphics) 15-AU624TX Laptop', 4.0, '₹49,990'], ['Lenovo Core i7 7th Gen - (16 GB/2 TB HDD/Windows 10 Home/4 GB Graphics) IP 520 Laptop', 4.2, '₹74,990'], ['MSI GV Series Core i7 7th Gen - (8 GB/1 TB HDD/128 GB SSD/Windows 10 Home/4 GB Graphics) GV62 7RE-2401...', 4.6, '₹79,990'], ['HP Envy Core i7 8th Gen - (8 GB/256 GB SSD/Windows 10 Home) 13-ad128TU Thin and Light Laptop', 4.5, '₹84,990'], ['Dell Inspiron Core i3 6th Gen - (4 GB/1 TB HDD/DOS) 3567 Laptop', 4.0, '₹29,990'], ['Asus VivoBook S14 Core i7 8th Gen - (8 GB/1 TB HDD/256 GB SSD/Windows 10 Home) S410UA-EB367T Thin and ...', 4.7, '₹72,990'], ['Acer Swift 3 Core i5 8th Gen - (8 GB/1 TB HDD/128 GB SSD/Linux/2 GB Graphics) SF315-51G Laptop', 4.8, '₹60,990'], ['Lenovo B50-70 Notebook (4th Gen Ci5/ 8GB/ 1TB/ Win8/ 2GB Graph) (59-427747)', 3.7, '₹52,490'], ['HP 15-ac044TU Notebook (Core i3 5th Gen/ 4GB/ 500GB/ FreeDOS) (M9U99PA)', 4.2, '₹28,490'], ['Asus ROG Core i7 7th Gen - (8 GB/1 TB HDD/256 GB SSD/Windows 10 Home/6 GB Graphics) GL502VM-FY230T Gam...', 3.0, '₹119,990'], ['HP Pavilion Power Core i7 7th Gen - (8 GB/1 TB HDD/128 GB SSD/Windows 10 Home/4 GB Graphics) 15-cb052T...', 5.0, '₹95,257'], ['HP 15 Core i7 7th Gen - (8 GB/1 TB HDD/Windows 10 Home/4 GB Graphics) 15g-br010TX Laptop', 4.3, '₹59,990'], ['Lenovo Core i5 7th Gen - (8 GB/1 TB HDD/Windows 10 Home/2 GB Graphics) IP 520 Laptop', 4.3, '₹69,890'], ['Dell Vostro 15 3000 Core i3 6th Gen - (4 GB/1 TB HDD/Windows 10 Home) 3568 Laptop', 4.8, '₹30,990'], ['Dell Vostro 15 3000 Core i3 6th Gen - (4 GB/1 TB HDD/Linux) 3568 Laptop', 4.4, '₹27,990'], ['Lenovo Core i5 7th Gen - (8 GB/256 GB SSD/Windows 10 Home) IP 520S Laptop', 4.7, '₹59,990'], ['Dell Inspiron 7000 Core i7 7th Gen - (8 GB/1 TB HDD/128 GB SSD/Windows 10 Home/4 GB Graphics) 7560 Lap...', 4.4, '₹74,990'], ['MSI GL Series Core i7 7th Gen - (8 GB/1 TB HDD/128 GB SSD/Windows 10 Home/4 GB Graphics) GV72 7RE-1464...', 4.8, '₹81,990'], ['HP 15 Celeron Dual Core - (4 GB/1 TB HDD/DOS) 15-BS614TU Laptop', 4.2, '₹23,244'], ['Acer Swift 3 Core i5 8th Gen - (8 GB/1 TB HDD/128 GB SSD/Windows 10 Home/2 GB Graphics) SF315-51G Lapt...', 4.8, '₹64,990'], ['HP Envy Core i5 8th Gen - (8 GB/256 GB SSD/Windows 10 Home) 13-ad126TU Thin and Light Laptop', 3.9, '₹74,990'], ['HP Pavilion Core i5 7th Gen - (4 GB/1 TB HDD/Windows 10 Home/4 GB Graphics) 15-AU624TX Laptop', 4.0, '₹49,990'], ['Dell Inspiron Core i7 6th Gen - (16 GB/1 TB HDD/128 GB SSD/Windows 10 Home/4 GB Graphics) 7559 Gaming ...', 4.0, '₹120,000'], ['Acer Aspire Pentium Quad Core - (4 GB/1 TB HDD/Windows 10 Home) ES1-533-P131 Laptop', 4.1, '₹27,999'], ['Dell Inspiron 15 5000 Core i5 8th Gen - (8 GB/2 TB HDD/Windows 10 Home/4 GB Graphics) 5570 Laptop', 3.7, '₹62,990'], ['Lenovo Core i7 6th Gen - (8 GB/512 GB SSD/Windows 10 Home) Yoga 900 2 in 1 Laptop', 3.4, '₹89,990'], ['Asus ZenBook Core i5 8th Gen - (8 GB/256 GB SSD/Windows 10 Home) UX430UA-GV334T Thin and Light Laptop', 4.5, '₹71,490'], ['Asus VivoBook APU Dual Core A9 - (4 GB/500 GB HDD/Windows 10 Home) X542BA-GQ024T Laptop', 3.0, '₹23,490'], ['MSI Core i7 7th Gen - (16 GB/1 TB HDD/256 GB SSD/Windows 10 Home/8 GB Graphics) GE73VR 7RF-086IN Gamin...', 4.3, '₹185,990'], ['HP Envy Core i7 8th Gen - (8 GB/256 GB SSD/Windows 10 Home) 13-ad127TU Thin and Light Laptop', 4.3, '₹79,990'], ['Acer Aspire Core i7 4th Gen - (12 GB/1 TB HDD/Windows 10 Home/4 GB Graphics) VN7-591G Gaming Laptop', 3.7, '₹84,990'], ['Asus ROG Core i7 7th Gen - (8 GB/1 TB HDD/Windows 10 Home/4 GB Graphics) GL553VD-FY103T Gaming Laptop', 4.4, '₹107,990'], ['Lenovo Legion Core i7 7th Gen - (8 GB/1 TB HDD/128 GB SSD/Windows 10 Home/4 GB Graphics) Y520 Gaming L...', 4.5, '₹92,990'], ['Dell Inspiron 15 5000 Core i5 8th Gen - (8 GB/1 TB HDD/Windows 10 Home/2 GB Graphics) 5570 Laptop', 4.2, '₹57,990'], ['HP 15 APU Quad Core A6 - (4 GB/1 TB HDD/DOS) 15-bg005AU Laptop', 3.9, '₹23,990'], ['Acer Spin 7 Core i7 7th Gen - (8 GB/256 GB SSD/Windows 10 Home) SP714-51 Laptop', 4.0, '₹124,900'], ['Acer Nitro 5 Core i7 7th Gen - (8 GB/1 TB HDD/Windows 10 Home/2 GB Graphics) AN515-51 Gaming Laptop', 4.3, '₹64,990'], ['HP 15 Core i5 7th Gen - (8 GB/1 TB HDD/Windows 10 Home/2 GB Graphics) 15q-BU012TX Laptop', 4.0, '₹46,990'], ['Asus EeeBook Celeron Dual Core - (2 GB/32 GB EMMC Storage/Windows 10 Home) E402NA-GA022T Laptop', 4.2, '₹14,490'], ['Dell Inspiron 7000 Core i7 6th Gen - (16 GB/1 TB HDD/128 GB SSD/Windows 10 Home/4 GB Graphics) 7559 Ga...', 3.2, '₹118,440'], ['Asus FX553 Core i7 7th Gen - (8 GB/1 TB HDD/Windows 10 Home/4 GB Graphics) FX553VD-DM013T Gaming Lapto...', 4.4, '₹74,990'], ['HP 15 Core i3 6th Gen - (4 GB/2 TB HDD/DOS) 15-bs615TU Laptop', 4.2, '₹30,990'], ['Acer Spin 1 Pentium Quad Core - (4 GB/500 GB HDD/Windows 10 Home) SP111-31 2 in 1 Laptop', 4.1, '₹27,990'], ['Acer Aspire 5 Core i5 8th Gen - (4 GB/1 TB HDD/Windows 10 Home) A515-51G Laptop', 4.1, '₹42,999'], ['HP Envy Core i3 7th Gen - (4 GB/128 GB SSD/Windows 10 Home) 13-ad079TU Thin and Light Laptop', 4.2, '₹49,990'], ['HP Core i7 7th Gen - (8 GB/1 TB HDD/Windows 10 Home/4 GB Graphics) 15-au118TX Laptop', 3.5, '₹73,392'], ['Lenovo Ideapad Core i5 7th Gen - (8 GB/1 TB HDD/Windows 10 Home/2 GB Graphics) IP 320S-14IKB Laptop', 4.0, '₹56,063'], ['Acer Nitro 5 Spin Core i5 8th Gen - (8 GB/1 TB HDD/Windows 10 Home/4 GB Graphics) NP515-51 Laptop', 4.2, '₹79,990'], ['Lenovo Yoga Book Atom Quad Core - (4 GB/64 GB EMMC Storage/Windows 10 Home) yb1-x91l 2 in 1 Laptop', 3.7, '₹39,990'], ['HP x360 Core i5 7th Gen - (8 GB/1 TB HDD/8 GB SSD/Windows 10 Home/2 GB Graphics) 14-ba073TX 2 in 1 Lap...', 4.2, '₹72,990'], ['HP Pentium Quad Core - (4 GB/1 TB HDD/DOS) 15-ay085tu Laptop', 4.1, '₹22,970'], ['HP Imprint Core i3 6th Gen - (4 GB/1 TB HDD/DOS) 15-BS542TU Laptop', 4.2, '₹28,390'], ['HP Core i3 6th Gen - (8 GB/1 TB HDD/DOS) BS544TU Laptop', 3.3, '₹31,290'], ['HP 15 Core i3 6th Gen - (8 GB/2 TB HDD/DOS/2 GB Graphics) 15-bs659TX Laptop', 3.7, '₹36,490'], ['HP Imprint Pentium Quad Core - (4 GB/1 TB HDD/DOS) 15-BS545TU Laptop', 3.5, '₹23,490'], ['HP Core i3 7th Gen - (4 GB/1 TB HDD/Windows 10 Home) 13-U131TU X360 2 in 1 Laptop', 4.1, '₹43,297'], ['HP Envy Core i5 7th Gen - (8 GB/256 GB SSD/Windows 10 Home) 13-ab069TU Thin and Light Laptop', 4.0, '₹69,990'], ['HP Pavilion Core i5 8th Gen - (8 GB/2 TB HDD/Windows 10 Home/4 GB Graphics) 15-CC132TX Laptop', 4.5, '₹65,600'], ['HP Pavilion Core i5 8th Gen - (8 GB/1 TB HDD/8 GB SSD/Windows 10 Home/2 GB Graphics) 15-CC129TX Laptop', 4.3, '₹60,790'], ['HP Pavilion Power Core i5 7th Gen - (8 GB/1 TB HDD/Windows 10 Home/4 GB Graphics) 15-cb518TX Gaming La...', 5.0, '₹78,290'], ['Lenovo Core i7 6th Gen - (16 GB/1 TB HDD/128 GB SSD/Windows 10 Home/4 GB Graphics) Y700 Gaming Laptop', 4.3, '₹85,999'], ['Asus R Series Core i5 7th Gen - (8 GB/1 TB HDD/DOS/2 GB Graphics) R558UQ-DM1286D Laptop', 3.9, '₹45,299'], ['Lenovo Core i7 7th Gen - (8 GB/2 TB HDD/Windows 10 Home/4 GB Graphics) 510 Laptop', 4.1, '₹67,500'], ['Asus Vivobook Max Core i3 7th Gen - (4 GB/1 TB HDD/Windows 10 Home/2 GB Graphics) A541UV-DM977T Laptop', 4.1, '₹34,975'], ['Dell Inspiron 5000 Core i7 7th Gen - (8 GB/1 TB HDD/Windows 10 Home) 5578 2 in 1 Laptop', 4.4, '₹78,990'], ['Asus X Series Core i3 7th Gen - (4 GB/1 TB HDD/DOS) X541UA-DM1232D Laptop', 4.1, '₹27,390'], ['HP Core i3 6th Gen - (4 GB/1 TB HDD/Windows 10 Home) 15-ay543TU Laptop', 4.0, '₹33,890'], ['Asus X Core i3 6th Gen - (4 GB/1 TB HDD/DOS) X541UA-GO1345D Laptop', 3.8, '₹26,849'], ['Acer Aspire F5 Core i7 6th Gen - (8 GB/1 TB HDD/Windows 10 Home/2 GB Graphics) F5-572G Laptop', 3.9, '₹53,990'], ['Lenovo Core i5 5th Gen - (4 GB/500 GB HDD/Windows 8.1) 500 2 in 1 Laptop', 4.2, '₹54,000'], ['Dell Inspiron Core i3 5th Gen - (4 GB/1 TB HDD/Windows 10 Home) 3558 Laptop', 3.9, '₹34,000'], ['Acer Aspire Core i3 6th Gen - (4 GB/1 TB HDD/Linux/2 GB Graphics) E5-575G Laptop', 4.3, '₹32,990'], ['HP Core i3 6th Gen - (4 GB/1 TB HDD/Windows 10 Home) 15-ay544TU Laptop', 4.0, '₹34,990'], ['HP Pentium Quad Core - (4 GB/1 TB HDD/DOS) 15-BE002TU Laptop', 4.0, '₹23,990'], ['HP Core i3 5th Gen - (4 GB/1 TB HDD/Windows 10 Home/2 GB Graphics) 15-AY004TX Laptop', 4.2, '₹36,490'], ['Dell Core i5 6th Gen - (8 GB/256 GB SSD/Windows 10 Home) XPS 13 Thin and Light Laptop', 4.4, '₹88,990'], ['Acer Nitro 5 Core i5 7th Gen - (8 GB/1 TB HDD/Windows 10 Home/4 GB Graphics) AN515-51 Gaming Laptop', 4.5, '₹75,999'], ['Acer Core i3 6th Gen - (4 GB/128 GB SSD/Windows 10 Home) SA5-271-35BE 2 in 1 Laptop', 4.5, '₹50,980'], ['HP AMD APU Dual Core A6 7th Gen - (4 GB/1 TB HDD/DOS) bw096au Laptop', 3.0, '₹23,286'], ['Acer ES 15 Core i3 6th Gen - (4 GB/500 GB HDD/Linux) ES1-572-33M8 Laptop', 4.0, '₹24,990'], ['HP A Series APU Quad Core A6 - (4 GB/500 GB HDD/Windows 10 Home) bg007AU Laptop', 4.4, '₹23,990'], ['HP Core i3 6th Gen - (4 GB/1 TB HDD/DOS) 15-ay542TU Laptop', 3.9, '₹28,499'], ['Asus VivoBook S15 Core i7 8th Gen - (8 GB/1 TB HDD/Windows 10 Home/2 GB Graphics) S510UN-BQ052T Laptop', 3.8, '₹67,450'], ['Dell Inspiron Core i3 5th Gen - (4 GB/1 TB HDD/Windows 10 Home) 3558 Laptop', 3.9, '₹34,000'], ['Dell 3000 APU Quad Core E2 6th Gen - (4 GB/500 GB HDD/Windows 10 Home) 3555 Laptop', 3.7, '₹25,400'], ['HP x360 Core i3 7th Gen - (4 GB/1 TB HDD/8 GB SSD/Windows 10 Home/2 GB Graphics) 14-ba075TX 2 in 1 Lap...', 4.4, '₹53,790'], ['HP Core i5 6th Gen - (4 GB/500 GB HDD/DOS) 240 G5 Laptop', 4.5, '₹40,000'], ['Asus ROG Core i7 7th Gen - (8 GB/1 TB HDD/Windows 10 Home/4 GB Graphics) GL553VE-FY047T Gaming Laptop', 4.7, '₹85,980'], ['Asus Vivobook Core i5 7th Gen - (8 GB/1 TB HDD/DOS/2 GB Graphics) R542UQ-DM164 Laptop', 4.3, '₹41,690'], ['HP G APU Quad Core E2 - (4 GB/500 GB HDD/DOS) 245 Laptop', 4.0, '₹19,800'], ['HP ProBook Core i5 7th Gen - (4 GB/500 GB HDD/DOS) 440 Laptop', 3.9, '₹58,485'], ['Dell Inspiron Core i3 6th Gen - (4 GB/1 TB HDD/DOS) 3567 Laptop', 4.0, '₹28,915'], ['Asus R558UQ Core i5 7th Gen - (4 GB/1 TB HDD/DOS/2 GB Graphics) DM513D Laptop', 4.3, '₹43,990'], ['Lenovo Ideapad 320 Core i3 6th Gen - (4 GB/1 TB HDD/DOS) IP 320E-15ISK Laptop', 4.1, '₹26,820'], ['HP Pavilion x360 Core i3 7th Gen - (4 GB/1 TB HDD/Windows 10 Home) 11-AD031TU 2 in 1 Laptop', 4.2, '₹42,490'], ['Dell Inspiron 5000 Core i5 6th Gen - (8 GB/1 TB HDD/Windows 10 Home/2 GB Graphics) 5559 Laptop', 3.7, '₹54,895'], ['Lenovo Y Series Core i7 6th Gen - (16 GB/1 TB HDD/128 GB SSD/Windows 10 Home/4 GB Graphics) Y700-15ISK...', 4.3, '₹89,999'], ['Asus R-SERIES Core i5 7th Gen - (4 GB/1 TB HDD/DOS/2 GB Graphics) R558UQ-DM542D Laptop', 4.8, '₹45,300'], ['Asus VivoBook S15 Core i7 8th Gen - (16 GB/1 TB HDD/128 GB SSD/Windows 10 Home/2 GB Graphics) S510UN-B...', 4.9, '₹81,390'], ['Asus Asus R Series Core i7 7th Gen - (8 GB/1 TB HDD/DOS/2 GB Graphics) R558UQ-DM701D Laptop', 4.1, '₹54,999'], ['Asus X SERIES Core i3 6th Gen - (4 GB/1 TB HDD/DOS) X541UA-DM883D Laptop', 4.5, '₹27,999'], ['Asus Vivobook Max Core i3 7th Gen - (4 GB/1 TB HDD/DOS/2 GB Graphics) A541UV-DM978 Laptop', 3.9, '₹34,385'], ['HP AY503TX Core i5 6th Gen - (8 GB/1 TB HDD/DOS/2 GB Graphics) AY503TX Laptop', 4.2, '₹43,990'], ['Dell Inspiron 5000 Core i5 7th Gen - (8 GB/1 TB HDD/Windows 10 Home) 5578 2 in 1 Laptop', 4.2, '₹72,990'], ['HP G Series Core i3 5th Gen - (4 GB/500 GB HDD/DOS) 240 G5 Y1S93PA Laptop', 3.0, '₹25,900'], ['Asus ROG Core i7 7th Gen - (16 GB/1 TB HDD/256 GB SSD/Windows 10 Home/4 GB Graphics) GL553VE-FY127T Ga...', 3.3, '₹113,500'], ['Asus ROG Core i5 7th Gen - (8 GB/1 TB HDD/Windows 10 Home/4 GB Graphics) GL553VD-FY130T Gaming Laptop', 4.6, '₹75,980'], ['Acer Aspire APU Quad Core A10 5th Gen - (4 GB/1 TB HDD/Windows 10/2 GB Graphics) E5-553G Laptop', 4.0, '₹35,300'], ['HP Core i3 6th Gen - (4 GB/500 GB HDD/DOS) 240 G5 Laptop', 3.8, '₹28,490'], ['Acer Aspire ES1 Core i3 6th Gen - (4 GB/500 GB HDD/Windows 10 Home) ES1-572-36YW Laptop', 4.0, '₹29,990'], ['Dell Inspiron 5000 Core i7 6th Gen - (16 GB/2 TB HDD/Windows 10 Home/4 GB Graphics) 5559 Laptop', 3.8, '₹73,990'], ['Dell Inspiron 5000 Core i7 6th Gen - (8 GB/1 TB HDD/Windows 10 Home/2 GB Graphics) 5559 Laptop', 4.2, '₹64,990'], ['Dell Inspiron 5000 Core i5 7th Gen - (8 GB/1 TB HDD/Windows 10 Home/4 GB Graphics) 5567 Laptop', 4.1, '₹57,990'], ['Asus ROG Core i7 7th Gen - (8 GB/1 TB HDD/128 GB SSD/Windows 10 Home/4 GB Graphics) GL553VE-FY168T Gam...', 4.8, '₹96,999'], ['Dell Vostro Core i3 4th Gen - (4 GB/500 GB HDD/Windows 10) 3558 Laptop', 4.1, '₹33,000'], ['HP Core i3 5th Gen - (4 GB/1 TB HDD/DOS) 15-AC184TU Laptop', 4.1, '₹28,490'], ['Dell Inspiron Core i7 6th Gen - (16 GB/2 TB HDD/Windows 10 Home/4 GB Graphics) 5559 Laptop', 3.4, '₹73,990'], ['Asus FX Series Core i7 7th Gen - (8 GB/1 TB HDD/Linux/2 GB Graphics) FX553VD Gaming Laptop', 4.6, '₹65,999'], ['Lenovo V series Core i3 6th Gen - (4 GB/1 TB HDD/DOS) v110 Laptop', 4.3, '₹28,499'], ['Dell Inspiron Core i5 7th Gen - (8 GB/1 TB HDD/Windows 10 Home/2 GB Graphics) 5567 Laptop', 4.1, '₹59,990'], ['HP 14 Core i5 5th Gen - (8 GB/1 TB HDD/Windows 10 Home/4 GB Graphics) 14-al111tx Laptop', 4.5, '₹70,300'], ['Asus R558UQ Core i5 7th Gen - (4 GB/1 TB HDD/DOS/2 GB Graphics) DM539D Laptop', 4.4, '₹41,990'], ['HP 15 Core i5 7th Gen - (8 GB/1 TB HDD/Windows 10 Home/2 GB Graphics) 15g-br011TX Laptop', 4.3, '₹54,990'], ['Acer E Series Core i3 6th Gen - (4 GB/1 TB HDD/Linux) Aspire E5-575-3203 Laptop', 4.3, '₹26,847'], ['Asus FX Core i5 7th Gen - (8 GB/1 TB HDD/Linux/2 GB Graphics) FX553VD-DM324 Gaming Laptop', 4.0, '₹69,990'], ['Dell Inspiron Core i5 6th Gen - (8 GB/1 TB HDD/Windows 10 Home/2 GB Graphics) 5559i581tb2gbw10WG Lapto...', 3.5, '₹53,990'], ['Asus VivoBook Max Core i3 7th Gen - (4 GB/1 TB HDD/Windows 10 Home/2 GB Graphics) A541UV-DM978T Laptop', 4.3, '₹35,350'], ['Acer Core i3 5th Gen - (4 GB/1 TB HDD/Windows 10 Home) E5-573-36RP Laptop', 3.9, '₹36,000'], ['Dell Inspiron Core i5 7th Gen - (8 GB/1 TB HDD/DOS/2 GB Graphics) 15-3567 Laptop', 4.4, '₹48,500'], ['Dell Inspiron 15 5000 Core i7 8th Gen - (8 GB/2 TB HDD/Windows 10 Home/4 GB Graphics) 5570 Laptop', 4.7, '₹72,490'], ['Lenovo IP500 Core i5 6th Gen - (4 GB/1 TB HDD/Windows 10 Home/2 GB Graphics) 14ISK Laptop', 3.0, '₹49,990'], ['HP Pavilion Core i7 6th Gen - (16 GB/2 TB HDD/Windows 10 Home/4 GB Graphics) 15-au008TX Laptop', 4.1, '₹84,999'], ['HP APU Quad Core A8 - (4 GB/1 TB HDD/DOS/2 GB Graphics) 15-BA017AX Laptop', 3.3, '₹29,999'], ['Asus ROG Core i7 6th Gen - (8 GB/1 TB HDD/Windows 10 Home/4 GB Graphics) GL552VX-DM261T Gaming Laptop', 4.4, '₹79,990'], ['Dell Inspiron 15 5000 Core i7 8th Gen - (8 GB/2 TB HDD/Windows 10 Home/4 GB Graphics) 5570 Laptop', 4.7, '₹72,490'], ['HP Pavilion Core i7 6th Gen - (8 GB/1 TB HDD/Windows 10 Home/4 GB Graphics) 15-AU009TX Laptop', 4.3, '₹72,249'], ['Lenovo Ideapad 500 Core i5 6th Gen - (4 GB/1 TB HDD/Windows 10 Home/2 GB Graphics) 500-15ISK Laptop', 3.0, '₹50,370'], ['HP x360 Core i5 7th Gen - (8 GB/1 TB HDD/Windows 10 Home) 13-u133tu 2 in 1 Laptop', 4.5, '₹59,490'], ['HP Core i3 5th Gen - (4 GB/1 TB HDD/Windows 10 Home) 15-ay020TU Laptop', 4.0, '₹30,990'], ['Dell 3000 Core i3 4th Gen - (4 GB/500 GB HDD/Windows 10 Home/128 MB Graphics) Latitude 3460 Laptop', 5.0, '₹34,990'], ['Acer Aspire APU Dual Core E1 1st Gen - (4 GB/1 TB HDD/Ubuntu) ES1-521-237Q Laptop', 3.8, '₹18,860'], ['Acer Aspire Core i3 6th Gen - (4 GB/1 TB HDD/Windows 10 Home/2 GB Graphics) E5-575G Laptop', 3.9, '₹43,490'], ['Lenovo Ideapad 310 Core i5 7th Gen - (4 GB/1 TB HDD/Windows 10 Home/2 GB Graphics) IP 310-15IKB Laptop', 3.9, '₹49,850'], ['Dell Inspiron Core i7 6th Gen - (8 GB/1 TB HDD/Windows 10 Home/2 GB Graphics) 5559 Laptop', 4.0, '₹64,980'], ['Dell Inspiron Core i7 6th Gen - (8 GB/1 TB HDD/Windows 10 Home/2 GB Graphics) 5559 Laptop', 3.5, '₹68,990'], ['Lenovo Core i3 6th Gen - (4 GB/500 GB HDD/DOS) Ideapad 110 Laptop', 4.1, '₹26,000'], ['HP 15 Core i3 6th Gen - (4 GB/1 TB HDD/Windows 10 Home) 15-be014TU Laptop', 4.1, '₹31,990'], ['HP Core i3 5th Gen - (4 GB/1 TB HDD/Windows 10 Home) 15-ay020TU Laptop', 4.0, '₹33,990'], ['HP 15 Core i5 7th Gen - (8 GB/1 TB HDD/Windows 10 Home/2 GB Graphics) 15g-br011TX Laptop', 4.3, '₹54,990'], ['Dell Inspiron 5000 Core i7 6th Gen - (16 GB/2 TB HDD/Windows 10 Home/4 GB Graphics) 5559 Laptop', 3.8, '₹73,990'], ['Dell Inspiron 5000 Core i7 6th Gen - (8 GB/1 TB HDD/Windows 10 Home/2 GB Graphics) 5559 Laptop', 4.2, '₹64,990'], ['HP 14 Core i5 5th Gen - (8 GB/1 TB HDD/Windows 10 Home/4 GB Graphics) 14-al111tx Laptop', 4.5, '₹70,300'], ['Asus FX Series Core i7 7th Gen - (8 GB/1 TB HDD/Linux/2 GB Graphics) FX553VD Gaming Laptop', 4.6, '₹65,999'], ['Acer Aspire APU Quad Core A10 5th Gen - (4 GB/1 TB HDD/Windows 10/2 GB Graphics) E5-553G Laptop', 4.0, '₹35,300'], ['Lenovo V series Core i3 6th Gen - (4 GB/1 TB HDD/DOS) v110 Laptop', 4.3, '₹28,499'], ['HP Core i5 6th Gen - (4 GB/1 TB HDD/DOS/2 GB Graphics) 15-ay008TX Laptop', 3.9, '₹41,890'], ['Asus ROG Core i5 7th Gen - (8 GB/1 TB HDD/Windows 10 Home/4 GB Graphics) GL553VD-FY130T Gaming Laptop', 4.6, '₹75,980'], ['Dell Inspiron 5000 Core i5 7th Gen - (4 GB/1 TB HDD/Windows 10 Home/2 GB Graphics) 5567 Laptop', 4.0, '₹53,490'], ['Lenovo Core i5 7th Gen - (4 GB/1 TB HDD/Windows 10 Home) 510 Yoga 2 in 1 Laptop', 3.7, '₹59,990'], ['Dell Inspiron Core i5 7th Gen - (8 GB/1 TB HDD/Windows 10 Home/2 GB Graphics) 5567 Laptop', 4.1, '₹59,990'], ['Asus Zen Book 3 Series Core i7 7th Gen - (16 GB/512 GB SSD/Windows 10) UX390UA-GS048T Thin and Light L...', 5.0, '₹145,990'], ['Asus Asus R Series Core i7 7th Gen - (8 GB/1 TB HDD/DOS/2 GB Graphics) R558UQ-DM701D Laptop', 4.1, '₹54,999'], ['Dell Inspiron 5000 Core i5 7th Gen - (8 GB/1 TB HDD/Windows 10 Home) 5578 2 in 1 Laptop', 4.2, '₹72,990'], ['HP AY503TX Core i5 6th Gen - (8 GB/1 TB HDD/DOS/2 GB Graphics) AY503TX Laptop', 4.2, '₹43,990'], ['Acer Core i3 5th Gen - (4 GB/1 TB HDD/Windows 10 Home) E5-573-36RP Laptop', 3.9, '₹36,000'], ['Acer Aspire Core i5 7th Gen - (4 GB/1 TB HDD/Linux) E5-575 Laptop', 4.0, '₹35,990'], ['Asus ROG Core i7 7th Gen - (16 GB/1 TB HDD/256 GB SSD/Windows 10 Home/4 GB Graphics) GL553VE-FY127T Ga...', 3.3, '₹113,500'], ['Asus X SERIES Core i3 6th Gen - (4 GB/1 TB HDD/DOS) X541UA-DM883D Laptop', 4.5, '₹27,999'], ['Asus Vivobook Max Core i3 7th Gen - (4 GB/1 TB HDD/DOS/2 GB Graphics) A541UV-DM978 Laptop', 3.9, '₹34,385'], ['Asus R-SERIES Core i5 7th Gen - (4 GB/1 TB HDD/DOS/2 GB Graphics) R558UQ-DM542D Laptop', 4.8, '₹45,300'], ['HP G Series Core i3 5th Gen - (4 GB/500 GB HDD/DOS) 240 G5 Y1S93PA Laptop', 3.0, '₹25,900'], ['Lenovo IP500 Core i5 6th Gen - (4 GB/1 TB HDD/Windows 10 Home/2 GB Graphics) 14ISK Laptop', 3.0, '₹49,990'], ['Dell Inspiron 15 7000 Core i7 8th Gen - (8 GB/1 TB HDD/256 GB SSD/Windows 10 Home/4 GB Graphics) 7570 ...', 4.5, '₹88,000'], ['Lenovo G50-80 Core i3 5th Gen - (4 GB/1 TB HDD/DOS/2 GB Graphics) G50-80 Laptop', 4.0, '₹31,000'], ['MSI GS60 2PL Ghost Notebook (4th Gen Ci7/ 8GB/ 1TB/ Win8.1/ 2GB Graph)', 3.6, '₹109,990'], ['Dell Inspiron Core i5 7th Gen - (8 GB/1 TB HDD/DOS/2 GB Graphics) 15-3567 Laptop', 4.4, '₹48,500'], ['Dell Inspiron 5000 Core i7 6th Gen - (8 GB/1 TB HDD/Windows 10 Home/2 GB Graphics) 5559 Laptop', 3.9, '₹58,999'], ['HP APU Quad Core A8 - (4 GB/1 TB HDD/DOS/2 GB Graphics) 15-BA017AX Laptop', 3.3, '₹29,999'], ['Lenovo Ideapad 500 Core i5 6th Gen - (4 GB/1 TB HDD/Windows 10 Home/2 GB Graphics) 500-15ISK Laptop', 3.0, '₹50,370'], ['Dell Inspiron Core i7 6th Gen - (8 GB/1 TB HDD/8 GB SSD/Windows 10 Home/4 GB Graphics) 7559 Gaming Lap...', 3.8, '₹90,000'], ['Asus X Series Celeron Dual Core 7th Gen - (4 GB/500 GB HDD/Windows 10 Home) X541NA-GO017T Laptop', 4.5, '₹22,455'], ['Asus X Series Pentium Quad Core 7th Gen - (4 GB/1 TB HDD/Windows 10 Home) X541NA-GO121T Laptop', 3.8, '₹24,425'], ['HP 15 APU Quad Core A10 - (4 GB/1 TB HDD/DOS/2 GB Graphics) 15-bw084AX Laptop', 4.2, '₹30,990'], ['Dell Vostro Core i3 6th Gen - (4 GB/1 TB HDD/Windows 10) 3568 Laptop', 4.0, '₹29,390'], ['Asus Core i3 6th Gen - (4 GB/1 TB HDD/DOS) X541UA-GO1345D Laptop', 3.9, '₹26,539'], ['Dell Inspiron 15 3000 Series Core i3 6th Gen - (4 GB/1 TB HDD/Windows 10 Home) 3567 Laptop', 3.8, '₹34,350'], ['HP NOTEBOOK Core i5 8th Gen - (4 GB/1 TB HDD/Windows 10 Home) 3FQ20PA#ACJ Laptop', 3.6, '₹41,499'], ['Dell 3000 Core i3 6th Gen - (4 GB/1 TB HDD/Windows 10 Home) 3567 Laptop', 3.8, '₹31,499'], ['Asus Zen Book 3 Series Core i7 7th Gen - (16 GB/512 GB SSD/Windows 10) UX390UA-GS048T Thin and Light L...', 5.0, '₹145,990'], ['Asus Core i3 5th Gen - (4 GB/1 TB HDD/DOS/2 GB Graphics) A540LJ-DM667D Laptop', 3.8, '₹33,600'], ['Dell Inspiron 15 7000 Core i7 8th Gen - (8 GB/1 TB HDD/256 GB SSD/Windows 10 Home/4 GB Graphics) 7570 ...', 4.5, '₹88,000'], ['MSI GS60 2PL Ghost Notebook (4th Gen Ci7/ 8GB/ 1TB/ Win8.1/ 2GB Graph)', 3.6, '₹109,990'], ['Lenovo G50-80 Core i3 5th Gen - (4 GB/1 TB HDD/DOS/2 GB Graphics) G50-80 Laptop', 4.0, '₹31,000'], ['Lenovo Ideapad 500s Core i5 6th Gen - (4 GB/1 TB HDD/Windows 10 Home/2 GB Graphics) 500S-14ISK Laptop', 4.0, '₹47,777'], ['Lenovo Core i5 7th Gen - (8 GB/1 TB HDD/Windows 10 Home/4 GB Graphics) 510 Laptop', 4.2, '₹67,990'], ['HP BS Core i3 6th Gen - (4 GB/1 TB HDD/128 GB EMMC Storage/Windows 10 Home) 15-BS 617 TU Laptop', 4.5, '₹38,000'], ['Dell Inspiron Core i7 7th Gen - (8 GB/1 TB HDD/Windows 10 Home/4 GB Graphics) 7567 Gaming Laptop', 4.4, '₹83,000'], ['Lenovo APU Dual Core A9 7th Gen - (8 GB/1 TB HDD/DOS/2 GB Graphics) Ideapad 110 Laptop', 3.9, '₹28,900'], ['Dell Inspiron Core i5 7th Gen - (8 GB/1 TB HDD/Windows 10 Home/2 GB Graphics) 5567 Laptop', 4.1, '₹57,990'], ['Dell Inspiron Core i7 7th Gen - (8 GB/1 TB HDD/Windows 10 Home/4 GB Graphics) 7567 Gaming Laptop', 4.4, '₹81,699'], ['HP Core i5 6th Gen - (4 GB/1 TB HDD/DOS/2 GB Graphics) 15-be015TX Laptop', 4.1, '₹41,980'], ['Dell Vostro Core i3 5th Gen - (4 GB/1 TB HDD/Linux) 3558 Laptop', 4.1, '₹29,500'], ['Lenovo Core i5 7th Gen - (16 GB/2 TB HDD/Windows 10 Home/4 GB Graphics) IP 520 Laptop', 4.3, '₹73,990'], ['Dell Inspiron 5000 Core i7 7th Gen - (16 GB/2 TB HDD/Windows 10 Home/4 GB Graphics) 5567 Laptop', 4.2, '₹81,990'], ['Acer Aspire E Core i5 5th Gen - (4 GB/1 TB HDD/Linux) E5-573 Laptop', 4.0, '₹38,999'], ['Lenovo Core i3 6th Gen - (4 GB/500 GB HDD/DOS) Ideapad 110 Laptop', 4.1, '₹26,000'], ['Acer Aspire Celeron Dual Core - (2 GB/500 GB HDD/Linux) ES1-533-C1SX Laptop', 3.8, '₹18,990'], ['Lenovo Core i5 7th Gen - (8 GB/1 TB HDD/Windows 10 Home/4 GB Graphics) 510 Laptop', 3.9, '₹66,990'], ['Dell Inspiron 3000 Core i3 6th Gen - (4 GB/1 TB HDD/Windows 10 Home) 3467 Laptop', 4.1, '₹32,980'], ['Lenovo 310 Core i5 6th Gen - (8 GB/1 TB HDD/DOS/2 GB Graphics) IP 310 Laptop', 4.2, '₹50,200'], ['Dell Vostro Celeron Dual Core 5th Gen - (4 GB/500 GB HDD/Linux) 3558 Laptop', 3.8, '₹23,500'], ['HP Core i5 7th Gen - (8 GB/1 TB HDD/Windows 10 Pro) 348 G4 Business Laptop', 4.2, '₹59,077'], ['Dell Inspiron 7000 Core i5 7th Gen - (8 GB/1 TB HDD/Windows 10 Home/2 GB Graphics) 7460 Laptop', 3.9, '₹66,900'], ['Dell Inspiron 5000 Core i7 7th Gen - (8 GB/1 TB HDD/Windows 10 Home/4 GB Graphics) 5567 Laptop', 4.1, '₹64,599'], ['Dell 15 3000 Core i3 4th Gen - (4 GB/500 GB HDD/Windows 8 Pro) 3558 Business Laptop', 4.3, '₹32,000'], ['HP Core i7 7th Gen - (8 GB/512 GB SSD/Windows 10 Home) 13-V122TU Thin and Light Laptop', 3.8, '₹116,850'], ['Lenovo Core i5 7th Gen - (8 GB/1 TB HDD/Windows 10 Home/4 GB Graphics) 510 Laptop', 4.2, '₹67,990'], ['HP APU Quad Core E2 6th Gen - (4 GB/500 GB HDD/DOS) 15-bg003AU Laptop', 4.1, '₹22,746'], ['Acer Core i3 6th Gen - (4 GB/1 TB HDD/Linux) ES1-572-33M8 Laptop', 3.9, '₹27,162'], ['Lenovo Ideapad 310 Core i5 7th Gen - (4 GB/1 TB HDD/Windows 10 Home/2 GB Graphics) IP 310-15IKB Laptop', 3.8, '₹58,966'], ['Dell Vostro Core i3 5th Gen - (4 GB/1 TB HDD/Linux) 3558 Laptop', 4.1, '₹29,500'], ['Lenovo Ideapad 110 APU Quad Core A6 6th Gen - (4 GB/500 GB HDD/Windows 10 Home) IP110 15ACL Laptop', 3.9, '₹24,490'], ['Dell Inspiron Core i7 6th Gen - (8 GB/1 TB HDD/Windows 10 Home/2 GB Graphics) 5559 Laptop', 3.3, '₹61,999'], ['HP OMEN Core i5 7th Gen - (8 GB/1 TB HDD/Windows 10 Home/2 GB Graphics) 15-ax248TX Gaming Laptop', 4.6, '₹70,990'], ['Dell Inspiron 5000 Core i7 7th Gen - (16 GB/2 TB HDD/Windows 10 Home/4 GB Graphics) 5567 Laptop', 4.2, '₹81,990'], ['Dell Inspiron 3000 Core i3 6th Gen - (4 GB/1 TB HDD/Windows 10 Home) 3467 Laptop', 4.1, '₹32,980'], ['Acer Aspire R11 Pentium Quad Core 4th Gen - (4 GB/500 GB HDD/Windows 10 Home) R3-131T-p4aa 2 in 1 Lapt...', 4.2, '₹28,980'], ['Dell Inspiron 5000 Core i5 6th Gen - (8 GB/1 TB HDD/Windows 10 Home/2 GB Graphics) 5559 Laptop', 3.6, '₹54,990'], ['Dell Inspiron 5000 Core i7 7th Gen - (8 GB/1 TB HDD/Windows 10 Home/4 GB Graphics) 5567 Laptop', 4.1, '₹64,599'], ['Dell Inspiron Core i7 6th Gen - (8 GB/1 TB HDD/Windows 10 Home/2 GB Graphics) 5559 Laptop', 3.2, '₹64,990'], ['Acer Celeron Dual Core - (2 GB/500 GB HDD/DOS) One 14 Laptop', 3.8, '₹15,990'], ['Asus Vivobook Max Core i3 7th Gen - (4 GB/1 TB HDD/Windows 10) X541UA-DM1358T Laptop', 3.6, '₹32,800'], ['Asus R Core i5 7th Gen - (8 GB/1 TB HDD/DOS/2 GB Graphics) R541UJ-DM174 Laptop', 3.3, '₹42,000'], ['Dell Inspiron 5000 Core i5 7th Gen - (4 GB/1 TB HDD/Windows 10 Home/2 GB Graphics) 5567 Laptop', 4.0, '₹47,383'], ['Acer Aspire APU Dual Core E1 7th Gen - (4 GB/500 GB HDD/Windows 10 Home) ASPIRE ES1 Laptop', 4.0, '₹22,990'], ['Asus X Series Pentium Quad Core 7th Gen - (4 GB/1 TB HDD/Windows 10 Home) X541NA-GO125T Laptop', 3.6, '₹25,500']]\n",
      "422\n"
     ]
    }
   ],
   "source": [
    "# Create empty lists\n",
    "products_table = []\n",
    "\n",
    "# For each search result page, get all the review rating, title, and price data\n",
    "for i, page in enumerate(range(link_pages)):\n",
    "    link = \"/search?page=\" + str(i) + \"&q=laptop&viewType=list\"\n",
    "    r = requests.get('http://www.flipkart.com' + link)\n",
    "    page = r.content\n",
    "    soup = bs(page, \"html.parser\")\n",
    "\n",
    "    # Get product data (eliminating recently reviewed items and recommended items)\n",
    "    products = soup.find_all('div', class_ = \"_1-2Iqu row\")\n",
    "    for product in products:\n",
    "        if len(product.find_all(\"div\", class_ = \"hGSR34 _2beYZw\")) != 0:\n",
    "            # Get review rating data\n",
    "            review_element = product.find_all(\"div\", class_ = \"hGSR34 _2beYZw\")\n",
    "            review_text = review_element[0].text\n",
    "            review = review_text.split(\" \")[0]\n",
    "            review = float(review)\n",
    "            # Get title data\n",
    "            title = product.find_all(\"div\", class_ = \"_3wU53n\")[0].text\n",
    "            # Get Price data\n",
    "            price = product.find_all(\"div\", class_ = \"_1vC4OE _2rQ-NK\")[0].text\n",
    "            # Merge the data\n",
    "            product_table = [title, review, price]\n",
    "            # Mutate the final data table\n",
    "            products_table.append(product_table)\n",
    "    \n",
    "print(products_table)\n",
    "print(len(products_table))"
   ]
  },
  {
   "cell_type": "code",
   "execution_count": 268,
   "metadata": {},
   "outputs": [
    {
     "name": "stdout",
     "output_type": "stream",
     "text": [
      "# of unique products is 346 out of 422\n"
     ]
    }
   ],
   "source": [
    "# Uniqueness check using 'dict'\n",
    "product_name = {}\n",
    "count = 0\n",
    "for product in products_table:\n",
    "    if product[0] not in product_name:\n",
    "        product_name[product[0]] = 1\n",
    "    else:\n",
    "        product_name[product[0]] += 1   \n",
    "print(\"# of unique products is\", len(product_name), \"out of\", len(products_table))"
   ]
  },
  {
   "cell_type": "code",
   "execution_count": 244,
   "metadata": {},
   "outputs": [],
   "source": [
    "######################################\n",
    "### All codes below is for testing.###\n",
    "######################################"
   ]
  },
  {
   "cell_type": "code",
   "execution_count": 256,
   "metadata": {},
   "outputs": [
    {
     "name": "stdout",
     "output_type": "stream",
     "text": [
      "[['Lenovo Ideapad Core i3 6th Gen - (4 GB/1 TB HDD/DOS/2 GB Graphics) IP 320 Laptop', 4.4, '₹32,490'], ['Lenovo IdeaPad Pentium Quad Core - (4 GB/1 TB HDD/DOS) 110-15IBR Laptop', 3.4, '₹19,990'], ['Dell Insprion Core i7 7th Gen - (8 GB/1 TB HDD/Windows 10/2 GB Graphics) 3567 Laptop', 4.0, '₹51,990'], ['Acer Aspire 3 Celeron Dual Core - (2 GB/500 GB HDD/Windows 10) A315-31 Laptop', 3.9, '₹17,990'], ['Acer Aspire 3 Pentium Quad Core - (4 GB/500 GB HDD/Linux) A315-31 Laptop', 4.0, '₹18,990'], ['Lenovo Yoga 510 Core i3 6th Gen - (4 GB/1 TB HDD/Windows 10 Home) Yoga 510 2 in 1 Laptop', 4.1, '₹38,990'], ['HP Core i5 7th Gen - (8 GB/1 TB HDD/Windows 10 Home/4 GB Graphics) 15-au623tx Laptop', 4.3, '₹53,990'], ['Asus EeeBook Celeron Dual Core - (2 GB/32 GB EMMC Storage/Windows 10 Home) E203NA-FD026T Laptop', 3.8, '₹13,990'], ['Micromax Atom Quad Core - (2 GB/32 GB EMMC Storage/Windows 10 Home) Canvas L1160 Laptop', 3.9, '₹8,990'], ['HP 15 Core i3 6th Gen - (4 GB/1 TB HDD/Windows 10 Home) 15-BS636TU Laptop', 3.9, '₹32,190'], ['HP G APU Quad Core A6 - (4 GB/500 GB HDD/DOS) 245 G5 Laptop', 4.0, '₹19,420'], ['Dell Inspiron Core i3 6th Gen - (4 GB/1 TB HDD/Ubuntu) 5567 Notebook', 4.3, '₹31,890'], ['Asus Vivobook Series Core i5 7th Gen - (8 GB/1 TB HDD/DOS/2 GB Graphics) R542UQ-DM153 Laptop', 4.2, '₹41,490'], ['Asus Vivobook APU Dual Core A6 - (4 GB/1 TB HDD/Windows 10 Home) X542BA-GQ006T Laptop', 3.8, '₹22,990'], ['Dell Inspiron 15 3000 Series Core i5 7th Gen - (4 GB/1 TB HDD/Windows 10 Home) 3567 Laptop', 3.8, '₹39,990'], ['HP 15 Core i5 8th Gen - (8 GB/2 TB HDD/DOS/2 GB Graphics) BS180TX Laptop', 4.6, '₹46,390'], ['HP Core i5 7th Gen - (8 GB/1 TB HDD/Windows 10 Home/2 GB Graphics) 15-AU620TX Laptop', 4.2, '₹56,490'], ['HP 15 APU Dual Core A6 - (4 GB/1 TB HDD/DOS) 15q-BY004AU Laptop', 3.7, '₹22,990'], ['HP 15 APU Dual Core A9 - (4 GB/1 TB HDD/DOS) 15-bw094AU Laptop', 4.1, '₹24,990'], ['HP Core i3 6th Gen - (4 GB/1 TB HDD/DOS) 15-BE012TU Laptop', 4.2, '₹28,445'], ['Microsoft Surface Pro Core i5 7th Gen - (4 GB/128 GB SSD/Windows 10 Pro) 1796 2 in 1 Laptop', 4.7, '₹64,990']]\n"
     ]
    }
   ],
   "source": [
    "# For each search result page, get all the review rating, title, and price data\n",
    "link = \"/search?page=3&q=laptop&viewType=list\"\n",
    "r = requests.get('http://www.flipkart.com' + link)\n",
    "page = r.content\n",
    "soup = bs(page, \"html.parser\")\n",
    "#    soup = soup.find_all(\"div\", class_ = \"_1XdvSH _17zsTh\")\n",
    "    \n",
    "# Get product title data\n",
    "products_table = []\n",
    "products = soup.find_all('div', class_ = \"_1-2Iqu row\")\n",
    "for product in products:\n",
    "    if len(product.find_all(\"div\", class_ = \"hGSR34 _2beYZw\")) != 0:\n",
    "        # Review rating data\n",
    "        review_element = product.find_all(\"div\", class_ = \"hGSR34 _2beYZw\")\n",
    "        review_text = review_element[0].text\n",
    "        review = review_text.split(\" \")[0]\n",
    "        review = float(review)\n",
    "        # Title data\n",
    "        title = product.find_all(\"div\", class_ = \"_3wU53n\")[0].text\n",
    "        price = product.find_all(\"div\", class_ = \"_1vC4OE _2rQ-NK\")[0].text\n",
    "        product_table = [title, review, price]\n",
    "        products_table.append(product_table)\n",
    "print(products_table)      "
   ]
  },
  {
   "cell_type": "code",
   "execution_count": null,
   "metadata": {},
   "outputs": [],
   "source": [
    "# Data loading\n",
    "payload = {'q':'laptop'}\n",
    "r = requests.get('http://www.flipkart.com/search', params = payload)\n",
    "page = r.content\n",
    "soup = bs(page, \"html.parser\")"
   ]
  },
  {
   "cell_type": "code",
   "execution_count": 91,
   "metadata": {},
   "outputs": [
    {
     "name": "stdout",
     "output_type": "stream",
     "text": [
      "['4.1', '4.1', '4', '4.1', '4', '3.7', '3.9', '3.8', '3.9', '3.9', '4.4', '3.6', '4.4', '4.5', '4.6', '4.1', '4.4', '3.5', '3.6', '4', '4.3', '4.1', '3.9', '4.6', '3.9', '3.8', '3.7', '4.1']\n",
      "28\n"
     ]
    }
   ],
   "source": [
    "# Test\n",
    "reviews = soup.find_all(\"div\", class_ = \"hGSR34 _2beYZw\")\n",
    "reviews_text_raw = get_text_from_elements(reviews)\n",
    "reviews_text = []\n",
    "for review in reviews_text_raw:\n",
    "    review_text = review.split(\" \")[0]\n",
    "    reviews_text.append(review_text)\n",
    "#print(reviews_text_raw)\n",
    "print(reviews_text)\n",
    "print(len)"
   ]
  },
  {
   "cell_type": "code",
   "execution_count": 92,
   "metadata": {},
   "outputs": [
    {
     "name": "stdout",
     "output_type": "stream",
     "text": [
      "['Dell Inspiron Pentium Quad Core - (4 GB/500 GB HDD/Ubuntu) 3552 Notebook', 'Lenovo Ideapad Core i3 6th Gen - (8 GB/1 TB HDD/Windows 10 Home/2 GB Graphics) IP 320 Laptop', 'Asus FX503 Core i7 7th Gen - (8 GB/1 TB HDD/Windows 10 Home/4 GB Graphics) FX503VD-DM111T Gaming Lapto...', 'Acer Core i5 7th Gen - (8 GB/1 TB HDD/Linux) E5 - 575 Laptop', 'HP APU Quad Core A8 - (4 GB/1 TB HDD/Windows 10 Home) 15-BG004AU Laptop', 'Asus APU Dual Core E1 - (4 GB/500 GB HDD/Windows 10 Home) X540YA-XO547T Laptop', 'Acer Switch One Atom Quad Core - (2 GB/32 GB EMMC Storage/Windows 10 Home) SW110-1CT 2 in 1 Laptop', 'Dell Inspiron 15 5000 Core i3 6th Gen - (4 GB/1 TB HDD/Windows 10 Home) 5567 Laptop', 'Dell Inspiron Core i5 7th Gen - (4 GB/1 TB HDD/Windows 10 Home/2 GB Graphics) 3567 Notebook', 'Dell Inspiron 15 3000 Series Core i5 7th Gen - (4 GB/1 TB HDD/Ubuntu/2 GB Graphics) 3567 Laptop', 'Lenovo Ideapad Core i5 7th Gen - (4 GB/1 TB HDD/Windows 10 Home) IP 320E-15IKB Laptop', 'HP 15 Core i3 6th Gen - (4 GB/1 TB HDD/DOS) 15q-BU020TU Laptop', 'Acer Nitro 5 Core i5 7th Gen - (8 GB/1 TB HDD/128 GB SSD/Windows 10 Home/4 GB Graphics) AN515-51 Gamin...', 'Asus VivoBook S14 Core i5 8th Gen - (8 GB/1 TB HDD/128 GB SSD/Windows 10 Home) S410UA-EB267T Thin and ...', 'Acer Nitro 5 Core i5 7th Gen - (8 GB/1 TB HDD/128 GB SSD/Windows 10 Home/2 GB Graphics) AN515-51 Gamin...', 'Lenovo Ideapad Core i5 7th Gen - (8 GB/2 TB HDD/DOS/2 GB Graphics) IP 320E-15IKB Laptop', 'Lenovo Ideapad Core i3 6th Gen - (4 GB/1 TB HDD/DOS/2 GB Graphics) IP 320 Laptop', 'Lenovo APU Dual Core A6 7th Gen - (4 GB/1 TB HDD/DOS) IP 320E Notebook', 'Dell Inspiron APU Dual Core E2 - (4 GB/500 GB HDD/Linux) 3565 Laptop', 'Dell Insprion Core i7 7th Gen - (8 GB/1 TB HDD/Windows 10/2 GB Graphics) 3567 Laptop', 'Asus EeeBook APU Quad Core E2 - (4 GB/500 GB HDD/Windows 10 Home) E402WA-GA001T Laptop', 'HP Core i5 7th Gen - (8 GB/1 TB HDD/Windows 10 Home/4 GB Graphics) 15-au623tx Laptop', 'Lenovo Yoga 510 Core i3 6th Gen - (4 GB/1 TB HDD/Windows 10 Home) Yoga 510 2 in 1 Laptop', 'Acer Aspire 3 Celeron Dual Core - (2 GB/500 GB HDD/Windows 10) A315-31 Laptop', 'Acer Nitro 5 Core i5 7th Gen - (8 GB/1 TB HDD/128 GB SSD/Windows 10 Home/2 GB Graphics) AN515-51 Gaming Laptop', 'Acer Switch One Atom Quad Core - (2 GB/32 GB EMMC Storage/Windows 10 Home) SW110-1CT 2 in 1 Laptop', 'Asus Vivobook APU Dual Core A6 - (4 GB/1 TB HDD/Windows 10 Home) X542BA-GQ006T Laptop', 'Asus APU Dual Core E1 - (4 GB/500 GB HDD/Windows 10 Home) X540YA-XO547T Laptop', 'Dell Inspiron Pentium Quad Core - (4 GB/500 GB HDD/Ubuntu) 3552 Notebook']\n",
      "29\n"
     ]
    }
   ],
   "source": [
    "# Test\n",
    "titles = soup.find_all(\"div\", class_ = \"_3wU53n\")\n",
    "titles_text = get_text_from_elements(titles)\n",
    "#print(titles_text)\n",
    "\n",
    "titles = soup.find_all(\"div\", class_ = \"_2hJpKs\")\n",
    "titles_text_popular = get_text_from_elements(titles)\n",
    "for product in titles_text_popular:\n",
    "    titles_text.append(product)\n",
    "print(titles_text)\n",
    "print(len(titles_text))"
   ]
  },
  {
   "cell_type": "code",
   "execution_count": 46,
   "metadata": {},
   "outputs": [
    {
     "name": "stdout",
     "output_type": "stream",
     "text": [
      "['₹25,990', '₹38,990', '₹17,990', '₹55,990', '₹44,990', '₹20,990', '₹24,990', '₹40,990', '₹25,490', '₹28,990', '₹29,990', '₹28,990', '₹30,990', '₹15,990', '₹28,990', '₹24,990', '₹26,990', '₹21,990', '₹25,490', '₹27,990', '₹67,990', '₹34,990', '₹77,990', '₹40,990', '₹67,990', '₹27,990', '₹15,990', '₹12,490', '₹38,990']\n",
      "29\n"
     ]
    }
   ],
   "source": [
    "# Test\n",
    "prices = soup.find_all(\"div\", class_ = \"_1vC4OE _2rQ-NK\")\n",
    "prices_text = get_text_from_elements(prices)\n",
    "#print(prices_text)\n",
    "\n",
    "prices = soup.find_all(\"div\", class_ = \"_1vC4OE _1DTbR5\")\n",
    "prices_text_popular = get_text_from_elements(prices)\n",
    "for product in prices_text_popular:\n",
    "    prices_text.append(product)\n",
    "print(prices_text)\n",
    "print(len(prices_text))\n"
   ]
  },
  {
   "cell_type": "code",
   "execution_count": 64,
   "metadata": {},
   "outputs": [
    {
     "name": "stdout",
     "output_type": "stream",
     "text": [
      "[['Dell Inspiron Core i3 6th Gen - (4 GB/1 TB HDD/Linux) 3467 Laptop', '4.1', '₹25,990'], ['HP 15 Core i5 8th Gen - (8 GB/1 TB HDD/DOS) 15-BS145TU Laptop', '4.2', '₹38,990'], ['HP 15 APU Dual Core E2 - (4 GB/500 GB HDD/DOS) 15Q-BY001AU Laptop', '3.6', '₹17,990'], ['Apple MacBook Air Core i5 5th Gen - (8 GB/128 GB SSD/Mac OS Sierra) MQD32HN/A A1466', '4.7', '₹55,990'], ['Lenovo Ideapad Core i5 7th Gen - (8 GB/1 TB HDD/Windows 10 Home/2 GB Graphics) IP 320 Laptop', '4.3', '₹44,990'], ['HP 15 Pentium Quad Core - (4 GB/1 TB HDD/DOS) 15Q-BU009TU Laptop', '4.1', '₹20,990'], ['Acer Aspire 3 Core i3 7th Gen - (4 GB/500 GB HDD/Linux) A315-51 Laptop', '4.3', '₹24,990'], ['Lenovo Core i5 7th Gen - (8 GB/1 TB HDD/DOS/2 GB Graphics) IP 320E Laptop', '4.3', '₹40,990'], ['Lenovo Ideapad Core i3 6th Gen - (4 GB/1 TB HDD/DOS) IP 320E Laptop', '4.1', '₹25,490'], ['HP 15 Core i3 6th Gen - (4 GB/1 TB HDD/Windows 10 Home) 15Q-bu013TU Laptop', '4.1', '₹28,990'], ['Dell Inspiron 14 3000 Core i3 6th Gen - (4 GB/1 TB HDD/Windows 10 Home) 3467 Laptop', '4.1', '₹29,990'], ['Lenovo Core i3 6th Gen - (4 GB/1 TB HDD/Windows 10 Home) IP 320E Laptop', '4.1', '₹28,990'], ['HP 15 Core i3 6th Gen - (8 GB/1 TB HDD/DOS) 15Q-BU006TU Laptop', '4.2', '₹30,990'], ['Acer Aspire 3 Celeron Dual Core - (2 GB/500 GB HDD/Linux) A315-31 Laptop', '3.9', '₹15,990'], ['Dell Inspiron APU Dual Core A9 7th Gen - (6 GB/1 TB HDD/Windows 10 Home) 3565 Laptop', '3.9', '₹28,990'], ['HP APU Dual Core A9 - (4 GB/1 TB HDD/Windows 10 Home/2 GB Graphics) 15q-by002AX Laptop', '3.8', '₹24,990'], ['HP 15 Core i3 6th Gen - (4 GB/1 TB HDD/DOS) 15Q-BU007TU Laptop', '4.2', '₹26,990'], ['Lenovo APU Dual Core A9 7th Gen - (4 GB/1 TB HDD/DOS) IP 320E Laptop', '3.7', '₹21,990'], ['Lenovo Ideapad Core i3 6th Gen - (4 GB/1 TB HDD/DOS) IP 320E-15ISK Laptop', '4.1', '₹25,490'], ['Lenovo APU Dual Core A9 6th Gen - (4 GB/1 TB HDD/Windows 10 Home) Yoga 510 2 in 1 Laptop', '4', '₹27,990'], ['MSI GL Series Core i7 7th Gen - (8 GB/1 TB HDD/Windows 10 Home/4 GB Graphics) GL62M 7RDX-2680IN Gaming...', '4.7', '₹67,990'], ['Lenovo Ideapad Core i3 7th Gen - (4 GB/1 TB HDD/Windows 10 Home) IP 320S Laptop', '4.2', '₹34,990'], ['MSI GL Series Core i7 7th Gen - (8 GB/1 TB HDD/128 GB SSD/Windows 10 Home/4 GB Graphics) GL62M 7REX-26...', '4.8', '₹77,990'], ['Dell Vostro 3000 Core i5 7th Gen - (8 GB/1 TB HDD/Ubuntu/2 GB Graphics) 3568 Laptop', '4.2', '₹40,990'], ['HP Envy Core i5 8th Gen - (8 GB/256 GB SSD/Windows 10 Home) 13-ad125TU Thin and Light Laptop', '4.4', '₹67,990'], ['Lenovo APU Dual Core A9 6th Gen - (4 GB/1 TB HDD/Windows 10 Home) Yoga 510 2 in 1 Laptop', '4', '₹27,990'], ['Acer Aspire 3 Celeron Dual Core - (2 GB/500 GB HDD/Linux) A315-31 Laptop', '3.9', '₹15,990'], ['Acer Switch One Atom Quad Core - (2 GB/32 GB EMMC Storage/Windows 10 Home) SW110-1CT 2 in 1 Laptop', '3.9', '₹12,490'], ['HP 15 Core i5 8th Gen - (8 GB/1 TB HDD/DOS) 15-BS145TU Laptop', '4.2', '₹38,990']]\n"
     ]
    }
   ],
   "source": [
    "# Test\n",
    "product_table = []\n",
    "for i, line in enumerate(titles_text):\n",
    "    product_table.append([titles_text[i], reviews_text[i], prices_text[i]])\n",
    "print(product_table)"
   ]
  }
 ],
 "metadata": {
  "kernelspec": {
   "display_name": "Python 3",
   "language": "python",
   "name": "python3"
  },
  "language_info": {
   "codemirror_mode": {
    "name": "ipython",
    "version": 3
   },
   "file_extension": ".py",
   "mimetype": "text/x-python",
   "name": "python",
   "nbconvert_exporter": "python",
   "pygments_lexer": "ipython3",
   "version": "3.6.4"
  }
 },
 "nbformat": 4,
 "nbformat_minor": 2
}
